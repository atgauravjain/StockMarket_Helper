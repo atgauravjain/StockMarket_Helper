{
 "cells": [
  {
   "cell_type": "code",
   "execution_count": 1,
   "id": "87bccb75",
   "metadata": {},
   "outputs": [],
   "source": [
    "from nsetools import Nse\n",
    "import yfinance as yf\n",
    "import pandas as pd\n",
    "import talib as ta\n",
    "nse = Nse()"
   ]
  },
  {
   "cell_type": "code",
   "execution_count": 2,
   "id": "03161778",
   "metadata": {
    "scrolled": true
   },
   "outputs": [],
   "source": [
    "# Get all stock codes\n",
    "\n",
    "all_stock_codes = nse.get_stock_codes()\n",
    "keys = list(all_stock_codes.keys())[1:-1]\n",
    "keys = [sub + '.NS' for sub in keys]"
   ]
  },
  {
   "cell_type": "code",
   "execution_count": 3,
   "id": "72ed6baa",
   "metadata": {},
   "outputs": [],
   "source": [
    "# List of strategy\n",
    "\n",
    "# 1. Check 44ma rising(1d)\n",
    "# 2. 44MA(1d,1w)\n",
    "# 3. 44MA+200MA(1d,1w)\n",
    "# 4. BollingerBand(1d,1w)"
   ]
  },
  {
   "cell_type": "code",
   "execution_count": 4,
   "id": "7a327941",
   "metadata": {
    "scrolled": true
   },
   "outputs": [],
   "source": [
    "def get_data(tickers, period, interval):\n",
    "    \n",
    "    data = yf.download(tickers=tickers,period=period,interval=interval,progress=False)\n",
    "    data['44MA'] = ta.SMA(data['Close'],44)\n",
    "    data['200MA'] = ta.SMA(data['Close'],200)\n",
    "    data['up_band'], data['mid_band'], data['low_band'] = ta.BBANDS(data['Close'], timeperiod =20)\n",
    "    data = data.drop(['mid_band'],axis=1)\n",
    "    \n",
    "    return data"
   ]
  },
  {
   "cell_type": "code",
   "execution_count": 5,
   "id": "ed0e3554",
   "metadata": {},
   "outputs": [],
   "source": [
    "# Check if 44MA is rising for last n instances in dataframe: data\n",
    "\n",
    "def check_44ma_rising(data,n):\n",
    "    \n",
    "    flag_44ma_rising = True\n",
    "    for x in range(n):\n",
    "        x +=1\n",
    "        try:\n",
    "            flag_44ma_rising = ((data['44MA'].iloc[-1*x] > data['44MA'].iloc[(-1*x)-1]) and flag_44ma_rising)\n",
    "        except:\n",
    "            flag_44ma_rising = False\n",
    "\n",
    "    return flag_44ma_rising"
   ]
  },
  {
   "cell_type": "code",
   "execution_count": 6,
   "id": "b21bf61e",
   "metadata": {},
   "outputs": [],
   "source": [
    "def check_44ma_str(data):\n",
    "    \n",
    "    # Check 44MA increasing for 3 points\n",
    "    flag_1 = check_44ma_rising(data,3)\n",
    "    \n",
    "    # Check for green candle\n",
    "    if flag_1 == True:\n",
    "        flag_2 = data['Close'].iloc[-1] > data['Open'].iloc[-1]\n",
    "    else:\n",
    "        flag_2 = False\n",
    "    \n",
    "    # Check for low to be close to bb_low_band\n",
    "    if (flag_1 and flag_2) == True:\n",
    "        flag_3 = (abs(data['Low'].iloc[-1] - data['44MA'].iloc[-1])/(data['44MA'].iloc[-1])) < 0.02\n",
    "    else:\n",
    "        flag_3 = False\n",
    "    \n",
    "    \n",
    "    flag_44ma_str = ((flag_1 and flag_2) and flag_3)\n",
    "    \n",
    "    return flag_44ma_str"
   ]
  },
  {
   "cell_type": "code",
   "execution_count": null,
   "id": "6f4d389f",
   "metadata": {},
   "outputs": [],
   "source": [
    "# n is max number of candles in W pattern\n",
    "\n",
    "def check_bb_low_str(data,n):\n",
    "    \n",
    "    flag_1 = flag_2 = flag_3 = flag_4 = flag_5_1 = flag_5_2 = flag_5 = flag_bb_low_str = False # Initialize all the flags to false\n",
    "    add = mean = 0\n",
    "    \n",
    "    # Check if the last candle is green (bullish)\n",
    "    flag_1 = (data['Close'].iloc[-1] > data['Open'].iloc[-1])\n",
    "    \n",
    "    # Check if the last candle is red hammer\n",
    "    delta = (data['High'].iloc[-1] - data['Low'].iloc[-1])\n",
    "    flag_2 = (data['Close'].iloc[-1] > (data['Low'].iloc[-1] + 0.6*delta))\n",
    "    \n",
    "    # Check if the low of last candle is close to bb_low_band\n",
    "    if (flag_1 or flag_2) == True:\n",
    "        flag_3 = ((data['Low'].iloc[-1] - data['low_band'].iloc[-1])/(data['low_band'].iloc[-1]) < 0.02)\n",
    "    \n",
    "    if flag_3 == True:\n",
    "        \n",
    "        # Calculate support band\n",
    "        z = 0.02 # x+-z will be used to calculate support band\n",
    "        support_low = (1-z)*data['Low'].iloc[-1]\n",
    "        support_high = (1+z)*data['Low'].iloc[-1]\n",
    "    \n",
    "        # Find a candle in last n instances which has closed below bb_low_band\n",
    "        for x in range(n):\n",
    "            instance = (-1*x)-2\n",
    "            flag_4 = (data['Close'].iloc[instance] < data['low_band'].iloc[instance]) # Set flag to true if a valid candle is found\n",
    "            if flag_4 == True:\n",
    "                break\n",
    "            else:\n",
    "                add = add + data['High'].iloc[instance]\n",
    "                flag_4 = False # Set flag to false if a valid candle is not found\n",
    "                \n",
    "        mean = add / (x-1)\n",
    "       \n",
    "    # Check if the x instance has close or low value withing support band as per last candle\n",
    "    if flag_4 == True:\n",
    "        flag_5_1 = (data['Close'].iloc[instance] < support_high) and (data['Close'].iloc[instance] > support_low)\n",
    "        flag_5_2 = (data['Low'].iloc[instance] < support_high) and (data['Low'].iloc[instance] > support_low)\n",
    "        flag_5 = flag_5_1 or flag_5_2\n",
    "        \n",
    "    # Check if the average of in-between candles is greater than support\n",
    "    if flag_5 == True:\n",
    "        flag_bb_low_str = (mean > support_high)\n",
    "    \n",
    "    return(flag_bb_low_str)"
   ]
  },
  {
   "cell_type": "code",
   "execution_count": 7,
   "id": "2e5cba8d",
   "metadata": {
    "scrolled": true
   },
   "outputs": [
    {
     "name": "stdout",
     "output_type": "stream",
     "text": [
      "\n",
      "1 Failed download:\n",
      "- EMAMIPAP.NS: No data found for this date range, symbol may be delisted\n",
      "\n",
      "1 Failed download:\n",
      "- NIRAJISPAT.NS: No data found for this date range, symbol may be delisted\n",
      "\n",
      "1 Failed download:\n",
      "- VLIFEPP.NS: No data found, symbol may be delisted\n",
      "            Stock  44ma_rising\n",
      "0         ABAN.NS         True\n",
      "1   BALAJITELE.NS         True\n",
      "2     CHOLAFIN.NS         True\n",
      "3   COROMANDEL.NS         True\n",
      "4        DABUR.NS         True\n",
      "5       DBCORP.NS         True\n",
      "6     DCMSRIND.NS         True\n",
      "7   DEEPAKFERT.NS         True\n",
      "8   DREDGECORP.NS         True\n",
      "9      EQUITAS.NS         True\n",
      "10     FINEORG.NS         True\n",
      "11   GALLISPAT.NS         True\n",
      "12      GEECEE.NS         True\n",
      "13   GULFPETRO.NS         True\n",
      "14      HATSUN.NS         True\n",
      "15     HCLTECH.NS         True\n",
      "16      INDIGO.NS         True\n",
      "17    KENNAMET.NS         True\n",
      "18  KEYFINSERV.NS         True\n",
      "19      MASFIN.NS         True\n",
      "20    MHLXMIRU.NS         True\n",
      "21        RKDL.NS         True\n",
      "22       TITAN.NS         True\n",
      "23    UNIENTER.NS         True\n"
     ]
    }
   ],
   "source": [
    "# Run this for 44MA Strategy\n",
    "\n",
    "results = pd.DataFrame(columns=['Stock','44ma_str'])\n",
    "m = 0\n",
    "\n",
    "for stock in keys:\n",
    "    \n",
    "    tickers = stock\n",
    "    period = \"3mo\"\n",
    "    interval = \"1d\"\n",
    "    try:\n",
    "        data = get_data(tickers,period,interval)\n",
    "    except:\n",
    "        continue\n",
    "    \n",
    "    # 44MA rising check    \n",
    "#     flag_44ma_rising = check_44ma_rising(data,5)\n",
    "#     if flag_44ma_rising==True:\n",
    "#         results.loc[m]=[tickers,flag_44ma_rising]\n",
    "#         m +=1\n",
    "        \n",
    "    # 44MA strategy check\n",
    "    flag_44ma_str = check_44ma_str(data)\n",
    "    if flag_44ma_str==True:\n",
    "        results.loc[m]=[tickers,flag_44ma_str]\n",
    "        m +=1\n",
    "        \n",
    "print(results)"
   ]
  },
  {
   "cell_type": "code",
   "execution_count": null,
   "id": "33ecbfb1",
   "metadata": {},
   "outputs": [],
   "source": [
    "# Run this for BB Strategy\n",
    "\n",
    "results = pd.DataFrame(columns=['Stock','bb_low_str'])\n",
    "m = 0\n",
    "\n",
    "for stock in keys:\n",
    "    \n",
    "    tickers = stock\n",
    "    period = \"3mo\"\n",
    "    interval = \"1d\"\n",
    "    n = 20\n",
    "    \n",
    "    try:\n",
    "        data = get_data(tickers,period,interval)\n",
    "    except:\n",
    "        continue\n",
    "        \n",
    "    # BB low strategy check\n",
    "    flag_bb_low_str = check_bb_low_str(data,20)\n",
    "    if flag_44ma_str==True:\n",
    "        results.loc[m]=[tickers,flag_bb_low_str]\n",
    "        m +=1\n",
    "        \n",
    "print(results)"
   ]
  },
  {
   "cell_type": "code",
   "execution_count": null,
   "id": "a0b5b970",
   "metadata": {},
   "outputs": [],
   "source": [
    "len(keys)"
   ]
  }
 ],
 "metadata": {
  "kernelspec": {
   "display_name": "Python 3 (ipykernel)",
   "language": "python",
   "name": "python3"
  },
  "language_info": {
   "codemirror_mode": {
    "name": "ipython",
    "version": 3
   },
   "file_extension": ".py",
   "mimetype": "text/x-python",
   "name": "python",
   "nbconvert_exporter": "python",
   "pygments_lexer": "ipython3",
   "version": "3.9.11"
  }
 },
 "nbformat": 4,
 "nbformat_minor": 5
}
